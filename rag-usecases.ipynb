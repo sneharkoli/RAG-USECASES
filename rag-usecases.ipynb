{
 "cells": [
  {
   "cell_type": "markdown",
   "id": "364229ea",
   "metadata": {},
   "source": [
    "Classic RAG (Dense Retrieval)"
   ]
  },
  {
   "cell_type": "markdown",
   "id": "8a382628",
   "metadata": {},
   "source": [
    "Plaintext:\n",
    "\n",
    "Q: What are the library opening hours?\n",
    "A: The library is open from 9am to 8pm on weekdays.\n",
    "\n",
    "Q: How do I obtain my student ID?\n",
    "A: Student IDs are issued at the administration desk."
   ]
  },
  {
   "cell_type": "code",
   "execution_count": 1,
   "id": "65488e47",
   "metadata": {},
   "outputs": [
    {
     "name": "stdout",
     "output_type": "stream",
     "text": [
      "Requirement already satisfied: langchain-community in c:\\users\\kolisn\\appdata\\local\\programs\\python\\python313\\lib\\site-packages (0.3.24)\n",
      "Requirement already satisfied: langchain-core<1.0.0,>=0.3.59 in c:\\users\\kolisn\\appdata\\local\\programs\\python\\python313\\lib\\site-packages (from langchain-community) (0.3.61)\n",
      "Requirement already satisfied: langchain<1.0.0,>=0.3.25 in c:\\users\\kolisn\\appdata\\local\\programs\\python\\python313\\lib\\site-packages (from langchain-community) (0.3.25)\n",
      "Requirement already satisfied: SQLAlchemy<3,>=1.4 in c:\\users\\kolisn\\appdata\\local\\programs\\python\\python313\\lib\\site-packages (from langchain-community) (2.0.41)\n",
      "Requirement already satisfied: requests<3,>=2 in c:\\users\\kolisn\\appdata\\local\\programs\\python\\python313\\lib\\site-packages (from langchain-community) (2.32.3)\n",
      "Requirement already satisfied: PyYAML>=5.3 in c:\\users\\kolisn\\appdata\\local\\programs\\python\\python313\\lib\\site-packages (from langchain-community) (6.0.2)\n",
      "Requirement already satisfied: aiohttp<4.0.0,>=3.8.3 in c:\\users\\kolisn\\appdata\\local\\programs\\python\\python313\\lib\\site-packages (from langchain-community) (3.11.18)\n",
      "Requirement already satisfied: tenacity!=8.4.0,<10,>=8.1.0 in c:\\users\\kolisn\\appdata\\local\\programs\\python\\python313\\lib\\site-packages (from langchain-community) (9.1.2)\n",
      "Requirement already satisfied: dataclasses-json<0.7,>=0.5.7 in c:\\users\\kolisn\\appdata\\local\\programs\\python\\python313\\lib\\site-packages (from langchain-community) (0.6.7)\n",
      "Requirement already satisfied: pydantic-settings<3.0.0,>=2.4.0 in c:\\users\\kolisn\\appdata\\local\\programs\\python\\python313\\lib\\site-packages (from langchain-community) (2.9.1)\n",
      "Requirement already satisfied: langsmith<0.4,>=0.1.125 in c:\\users\\kolisn\\appdata\\local\\programs\\python\\python313\\lib\\site-packages (from langchain-community) (0.3.42)\n",
      "Requirement already satisfied: httpx-sse<1.0.0,>=0.4.0 in c:\\users\\kolisn\\appdata\\local\\programs\\python\\python313\\lib\\site-packages (from langchain-community) (0.4.0)\n",
      "Requirement already satisfied: numpy>=2.1.0 in c:\\users\\kolisn\\appdata\\local\\programs\\python\\python313\\lib\\site-packages (from langchain-community) (2.2.1)\n",
      "Requirement already satisfied: aiohappyeyeballs>=2.3.0 in c:\\users\\kolisn\\appdata\\local\\programs\\python\\python313\\lib\\site-packages (from aiohttp<4.0.0,>=3.8.3->langchain-community) (2.6.1)\n",
      "Requirement already satisfied: aiosignal>=1.1.2 in c:\\users\\kolisn\\appdata\\local\\programs\\python\\python313\\lib\\site-packages (from aiohttp<4.0.0,>=3.8.3->langchain-community) (1.3.2)\n",
      "Requirement already satisfied: attrs>=17.3.0 in c:\\users\\kolisn\\appdata\\local\\programs\\python\\python313\\lib\\site-packages (from aiohttp<4.0.0,>=3.8.3->langchain-community) (25.3.0)\n",
      "Requirement already satisfied: frozenlist>=1.1.1 in c:\\users\\kolisn\\appdata\\local\\programs\\python\\python313\\lib\\site-packages (from aiohttp<4.0.0,>=3.8.3->langchain-community) (1.6.0)\n",
      "Requirement already satisfied: multidict<7.0,>=4.5 in c:\\users\\kolisn\\appdata\\local\\programs\\python\\python313\\lib\\site-packages (from aiohttp<4.0.0,>=3.8.3->langchain-community) (6.4.4)\n",
      "Requirement already satisfied: propcache>=0.2.0 in c:\\users\\kolisn\\appdata\\local\\programs\\python\\python313\\lib\\site-packages (from aiohttp<4.0.0,>=3.8.3->langchain-community) (0.3.1)\n",
      "Requirement already satisfied: yarl<2.0,>=1.17.0 in c:\\users\\kolisn\\appdata\\local\\programs\\python\\python313\\lib\\site-packages (from aiohttp<4.0.0,>=3.8.3->langchain-community) (1.20.0)\n",
      "Requirement already satisfied: marshmallow<4.0.0,>=3.18.0 in c:\\users\\kolisn\\appdata\\local\\programs\\python\\python313\\lib\\site-packages (from dataclasses-json<0.7,>=0.5.7->langchain-community) (3.26.1)\n",
      "Requirement already satisfied: typing-inspect<1,>=0.4.0 in c:\\users\\kolisn\\appdata\\local\\programs\\python\\python313\\lib\\site-packages (from dataclasses-json<0.7,>=0.5.7->langchain-community) (0.9.0)\n",
      "Requirement already satisfied: langchain-text-splitters<1.0.0,>=0.3.8 in c:\\users\\kolisn\\appdata\\local\\programs\\python\\python313\\lib\\site-packages (from langchain<1.0.0,>=0.3.25->langchain-community) (0.3.8)\n",
      "Requirement already satisfied: pydantic<3.0.0,>=2.7.4 in c:\\users\\kolisn\\appdata\\local\\programs\\python\\python313\\lib\\site-packages (from langchain<1.0.0,>=0.3.25->langchain-community) (2.11.5)\n",
      "Requirement already satisfied: jsonpatch<2.0,>=1.33 in c:\\users\\kolisn\\appdata\\local\\programs\\python\\python313\\lib\\site-packages (from langchain-core<1.0.0,>=0.3.59->langchain-community) (1.33)\n",
      "Requirement already satisfied: packaging<25,>=23.2 in c:\\users\\kolisn\\appdata\\local\\programs\\python\\python313\\lib\\site-packages (from langchain-core<1.0.0,>=0.3.59->langchain-community) (24.2)\n",
      "Requirement already satisfied: typing-extensions>=4.7 in c:\\users\\kolisn\\appdata\\local\\programs\\python\\python313\\lib\\site-packages (from langchain-core<1.0.0,>=0.3.59->langchain-community) (4.12.2)\n",
      "Requirement already satisfied: jsonpointer>=1.9 in c:\\users\\kolisn\\appdata\\local\\programs\\python\\python313\\lib\\site-packages (from jsonpatch<2.0,>=1.33->langchain-core<1.0.0,>=0.3.59->langchain-community) (3.0.0)\n",
      "Requirement already satisfied: httpx<1,>=0.23.0 in c:\\users\\kolisn\\appdata\\local\\programs\\python\\python313\\lib\\site-packages (from langsmith<0.4,>=0.1.125->langchain-community) (0.28.1)\n",
      "Requirement already satisfied: orjson<4.0.0,>=3.9.14 in c:\\users\\kolisn\\appdata\\local\\programs\\python\\python313\\lib\\site-packages (from langsmith<0.4,>=0.1.125->langchain-community) (3.10.18)\n",
      "Requirement already satisfied: requests-toolbelt<2.0.0,>=1.0.0 in c:\\users\\kolisn\\appdata\\local\\programs\\python\\python313\\lib\\site-packages (from langsmith<0.4,>=0.1.125->langchain-community) (1.0.0)\n",
      "Requirement already satisfied: zstandard<0.24.0,>=0.23.0 in c:\\users\\kolisn\\appdata\\local\\programs\\python\\python313\\lib\\site-packages (from langsmith<0.4,>=0.1.125->langchain-community) (0.23.0)\n",
      "Requirement already satisfied: anyio in c:\\users\\kolisn\\appdata\\local\\programs\\python\\python313\\lib\\site-packages (from httpx<1,>=0.23.0->langsmith<0.4,>=0.1.125->langchain-community) (4.9.0)\n",
      "Requirement already satisfied: certifi in c:\\users\\kolisn\\appdata\\local\\programs\\python\\python313\\lib\\site-packages (from httpx<1,>=0.23.0->langsmith<0.4,>=0.1.125->langchain-community) (2025.1.31)\n",
      "Requirement already satisfied: httpcore==1.* in c:\\users\\kolisn\\appdata\\local\\programs\\python\\python313\\lib\\site-packages (from httpx<1,>=0.23.0->langsmith<0.4,>=0.1.125->langchain-community) (1.0.9)\n",
      "Requirement already satisfied: idna in c:\\users\\kolisn\\appdata\\local\\programs\\python\\python313\\lib\\site-packages (from httpx<1,>=0.23.0->langsmith<0.4,>=0.1.125->langchain-community) (3.10)\n",
      "Requirement already satisfied: h11>=0.16 in c:\\users\\kolisn\\appdata\\local\\programs\\python\\python313\\lib\\site-packages (from httpcore==1.*->httpx<1,>=0.23.0->langsmith<0.4,>=0.1.125->langchain-community) (0.16.0)\n",
      "Requirement already satisfied: annotated-types>=0.6.0 in c:\\users\\kolisn\\appdata\\local\\programs\\python\\python313\\lib\\site-packages (from pydantic<3.0.0,>=2.7.4->langchain<1.0.0,>=0.3.25->langchain-community) (0.7.0)\n",
      "Requirement already satisfied: pydantic-core==2.33.2 in c:\\users\\kolisn\\appdata\\local\\programs\\python\\python313\\lib\\site-packages (from pydantic<3.0.0,>=2.7.4->langchain<1.0.0,>=0.3.25->langchain-community) (2.33.2)\n",
      "Requirement already satisfied: typing-inspection>=0.4.0 in c:\\users\\kolisn\\appdata\\local\\programs\\python\\python313\\lib\\site-packages (from pydantic<3.0.0,>=2.7.4->langchain<1.0.0,>=0.3.25->langchain-community) (0.4.1)\n",
      "Requirement already satisfied: python-dotenv>=0.21.0 in c:\\users\\kolisn\\appdata\\local\\programs\\python\\python313\\lib\\site-packages (from pydantic-settings<3.0.0,>=2.4.0->langchain-community) (1.1.0)\n",
      "Requirement already satisfied: charset-normalizer<4,>=2 in c:\\users\\kolisn\\appdata\\local\\programs\\python\\python313\\lib\\site-packages (from requests<3,>=2->langchain-community) (3.4.1)\n",
      "Requirement already satisfied: urllib3<3,>=1.21.1 in c:\\users\\kolisn\\appdata\\local\\programs\\python\\python313\\lib\\site-packages (from requests<3,>=2->langchain-community) (2.3.0)\n",
      "Requirement already satisfied: greenlet>=1 in c:\\users\\kolisn\\appdata\\local\\programs\\python\\python313\\lib\\site-packages (from SQLAlchemy<3,>=1.4->langchain-community) (3.2.2)\n",
      "Requirement already satisfied: mypy-extensions>=0.3.0 in c:\\users\\kolisn\\appdata\\local\\programs\\python\\python313\\lib\\site-packages (from typing-inspect<1,>=0.4.0->dataclasses-json<0.7,>=0.5.7->langchain-community) (1.1.0)\n",
      "Requirement already satisfied: sniffio>=1.1 in c:\\users\\kolisn\\appdata\\local\\programs\\python\\python313\\lib\\site-packages (from anyio->httpx<1,>=0.23.0->langsmith<0.4,>=0.1.125->langchain-community) (1.3.1)\n"
     ]
    }
   ],
   "source": [
    "!pip install langchain-community"
   ]
  },
  {
   "cell_type": "code",
   "execution_count": 2,
   "id": "a662eff6",
   "metadata": {},
   "outputs": [
    {
     "name": "stdout",
     "output_type": "stream",
     "text": [
      "Requirement already satisfied: faiss-cpu in c:\\users\\kolisn\\appdata\\local\\programs\\python\\python313\\lib\\site-packages (1.11.0)\n",
      "Requirement already satisfied: numpy<3.0,>=1.25.0 in c:\\users\\kolisn\\appdata\\local\\programs\\python\\python313\\lib\\site-packages (from faiss-cpu) (2.2.1)\n",
      "Requirement already satisfied: packaging in c:\\users\\kolisn\\appdata\\local\\programs\\python\\python313\\lib\\site-packages (from faiss-cpu) (24.2)\n"
     ]
    }
   ],
   "source": [
    "!pip install faiss-cpu"
   ]
  },
  {
   "cell_type": "code",
   "execution_count": 4,
   "id": "9e5a2e06",
   "metadata": {},
   "outputs": [
    {
     "name": "stdout",
     "output_type": "stream",
     "text": [
      "You can go to the library on weekdays between 9am and 8pm.\n"
     ]
    }
   ],
   "source": [
    "import requests\n",
    "from langchain.chains import RetrievalQA\n",
    "from langchain.vectorstores import FAISS\n",
    "from langchain.embeddings.base import Embeddings\n",
    "from langchain.llms.base import LLM\n",
    "from typing import List, Any\n",
    "\n",
    "# docs: List of tuples containing question-answer pairs.\n",
    "# Each tuple represents a document with a question and its corresponding answer.\n",
    "docs = [\n",
    "    (\"What are the library opening hours?\", \"The library is open from 9am to 8pm on weekdays.\"),\n",
    "    (\"How do I obtain my student ID?\", \"Student IDs are issued at the administration desk.\"),\n",
    "]\n",
    "\n",
    "# texts: List of formatted strings combining questions and answers.\n",
    "# Each string is formatted as \"Q: <question>\\nA: <answer>\" for embedding and retrieval.\n",
    "texts = [f\"Q: {q}\\nA: {a}\" for q, a in docs]\n",
    "\n",
    "# CustomAPIEmbeddings: Custom embedding class using your /embedding API.\n",
    "# - Inherits from LangChain's Embeddings base class.\n",
    "# - embed_documents() embeds a list of texts by calling embed_query() for each.\n",
    "# - embed_query() sends a POST request to your /embedding endpoint with the text and model version.\n",
    "# - The API returns a dense vector (embedding) for the input text.\n",
    "# - Example: The text \"Q: What are the library opening hours?\\nA: ...\" is converted into a high-dimensional vector (e.g., 1536 dimensions).\n",
    "class CustomAPIEmbeddings(Embeddings):\n",
    "    def embed_documents(self, texts: List[str]) -> List[List[float]]:\n",
    "        return [self.embed_query(text) for text in texts]\n",
    "\n",
    "    def embed_query(self, text: str) -> List[float]:\n",
    "        response = requests.post(\n",
    "            \"http://localhost:8000/embedding\",\n",
    "            json={\"input\": text, \"model_version\": \"text-embedding-ada-002\"},\n",
    "            timeout=10,\n",
    "        )\n",
    "        response.raise_for_status()\n",
    "        return response.json()[\"embedding\"]\n",
    "\n",
    "# CustomAPILLM: Custom LLM class using your /chat API.\n",
    "# - Inherits from LangChain's LLM base class.\n",
    "# - _call() sends a POST request to your /chat endpoint with the system prompt, user prompt, and model version.\n",
    "# - The API returns a generated answer in the \"content\" field.\n",
    "# - Example: When a user asks \"When can I go to the library?\", the system retrieves the most relevant Q&A pair and uses the LLM to answer in context.\n",
    "class CustomAPILLM(LLM):\n",
    "    def _call(self, prompt: str, stop: List[str] = [], **kwargs: Any) -> str:\n",
    "        payload = {\n",
    "            \"system_prompt\": \"You are a helpful assistant.\",\n",
    "            \"user_prompt\": prompt,\n",
    "            \"model_version\": \"gpt-4.1-2025-04-14\"\n",
    "        }\n",
    "        response = requests.post(\n",
    "            \"http://localhost:8000/chat\",\n",
    "            json=payload,\n",
    "            timeout=30,\n",
    "        )\n",
    "        response.raise_for_status()\n",
    "        return response.json()[\"content\"]\n",
    "\n",
    "    @property\n",
    "    def _llm_type(self) -> str:\n",
    "        return \"custom_api_llm\"\n",
    "\n",
    "# vectorstore: FAISS vector store instance.\n",
    "# - FAISS (Facebook AI Similarity Search) is a library for efficient similarity search and clustering of dense vectors.\n",
    "# - It is commonly used to quickly find similar items (e.g., documents, images) in large datasets.\n",
    "# - from_texts() creates a vector store from the provided texts using the specified embedding model.\n",
    "#   Example: If you have 1000 FAQ pairs, each will be converted to a vector and stored in FAISS for fast retrieval.\n",
    "# - CustomAPIEmbeddings generates dense vector representations (embeddings) for each text using your custom embedding API.\n",
    "# - Indexes: FAISS builds an index over these vectors, allowing fast nearest neighbor search. This index is not a traditional database index, but a structure (like an inverted file or HNSW graph) optimized for vector similarity.\n",
    "# - Vector dimensions: Each embedding is a list (array) of numbers (floats), where the length (dimension) depends on the embedding model (e.g., 1536 for ada-002). Higher dimensions can capture more semantic information.\n",
    "# - Why arrays? Vectors are arrays because mathematical operations (like dot product or cosine similarity) are performed on them to measure similarity.\n",
    "vectorstore = FAISS.from_texts(texts, CustomAPIEmbeddings())\n",
    "\n",
    "# qa: RetrievalQA chain instance.\n",
    "# - RetrievalQA is a LangChain chain that combines a retriever and a language model (LLM) for question answering.\n",
    "# - from_chain_type() initializes the chain with:\n",
    "#     - llm: The language model to generate answers (here, your custom LLM).\n",
    "#     - retriever: The retriever interface from the vector store, used to fetch relevant documents.\n",
    "# - Example: When a user asks \"When can I go to the library?\", the retriever converts the question to a vector, finds the most similar vectors (documents) in FAISS, and passes them to the LLM to generate a final answer.\n",
    "qa = RetrievalQA.from_chain_type(\n",
    "    llm=CustomAPILLM(), retriever=vectorstore.as_retriever()\n",
    ")\n",
    "\n",
    "# Run the QA chain with a user query.\n",
    "# - qa.run() takes a question as input, retrieves relevant documents, and generates an answer using the LLM.\n",
    "# - Example: If the input is \"When can I go to the library?\", the system retrieves the most relevant Q&A pair and uses the LLM to answer in context.\n",
    "print(qa.run(\"When can I go to the library?\"))"
   ]
  }
 ],
 "metadata": {
  "kernelspec": {
   "display_name": "Python 3",
   "language": "python",
   "name": "python3"
  },
  "language_info": {
   "codemirror_mode": {
    "name": "ipython",
    "version": 3
   },
   "file_extension": ".py",
   "mimetype": "text/x-python",
   "name": "python",
   "nbconvert_exporter": "python",
   "pygments_lexer": "ipython3",
   "version": "3.13.1"
  }
 },
 "nbformat": 4,
 "nbformat_minor": 5
}
